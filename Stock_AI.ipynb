{
  "nbformat": 4,
  "nbformat_minor": 0,
  "metadata": {
    "colab": {
      "provenance": []
    },
    "kernelspec": {
      "name": "python3",
      "display_name": "Python 3"
    },
    "language_info": {
      "name": "python"
    }
  },
  "cells": [
    {
      "cell_type": "code",
      "execution_count": 1,
      "metadata": {
        "id": "JDu2y688ATxd"
      },
      "outputs": [],
      "source": [
        "import numpy as np\n",
        "import matplotlib.pyplot as plt\n",
        "import pandas as pd\n",
        "import tensorflow as tf"
      ]
    },
    {
      "cell_type": "code",
      "source": [
        "dataset_train = pd.read_csv('Google_Stock_Price_Train.csv')\n",
        "training_set = dataset_train.iloc[:, 1:2].values"
      ],
      "metadata": {
        "id": "osWnj1JSC7C4"
      },
      "execution_count": 2,
      "outputs": []
    },
    {
      "cell_type": "code",
      "source": [
        "from sklearn.preprocessing import MinMaxScaler\n",
        "sc = MinMaxScaler(feature_range = (0, 1))\n",
        "training_set_scaled = sc.fit_transform(training_set)"
      ],
      "metadata": {
        "id": "0rJ4T08gDHWg"
      },
      "execution_count": 3,
      "outputs": []
    },
    {
      "cell_type": "code",
      "source": [
        "X_train = []\n",
        "y_train = []\n",
        "for i in range(60, 1258):\n",
        "    X_train.append(training_set_scaled[i-60:i, 0])\n",
        "    y_train.append(training_set_scaled[i, 0])\n",
        "X_train, y_train = np.array(X_train), np.array(y_train)"
      ],
      "metadata": {
        "id": "LvZAy6tMDK2Q"
      },
      "execution_count": 4,
      "outputs": []
    },
    {
      "cell_type": "code",
      "source": [
        "X_train = np.reshape(X_train, (X_train.shape[0], X_train.shape[1], 1))"
      ],
      "metadata": {
        "id": "A6W1WrUVDOXo"
      },
      "execution_count": 5,
      "outputs": []
    },
    {
      "cell_type": "code",
      "source": [
        "regressor = tf.keras.models.Sequential()"
      ],
      "metadata": {
        "id": "ogZCLrbUDRUI"
      },
      "execution_count": 6,
      "outputs": []
    },
    {
      "cell_type": "code",
      "source": [
        "regressor.add(tf.keras.layers.LSTM(units = 50, return_sequences = True, input_shape = (X_train.shape[1], 1)))\n",
        "regressor.add(tf.keras.layers.Dropout(0.2))\n"
      ],
      "metadata": {
        "id": "-erZHGj5DUG4"
      },
      "execution_count": 7,
      "outputs": []
    },
    {
      "cell_type": "code",
      "source": [
        "regressor.add(tf.keras.layers.LSTM(units = 50, return_sequences = True))\n",
        "regressor.add(tf.keras.layers.Dropout(0.2))"
      ],
      "metadata": {
        "id": "pGymg8PiDYsA"
      },
      "execution_count": 8,
      "outputs": []
    },
    {
      "cell_type": "code",
      "source": [
        "regressor.add(tf.keras.layers.LSTM(units = 50, return_sequences = True))\n",
        "regressor.add(tf.keras.layers.Dropout(0.2))"
      ],
      "metadata": {
        "id": "lcYmtlCbDbKw"
      },
      "execution_count": 9,
      "outputs": []
    },
    {
      "cell_type": "code",
      "source": [
        "regressor.add(tf.keras.layers.LSTM(units = 50))\n",
        "regressor.add(tf.keras.layers.Dropout(0.2))\n"
      ],
      "metadata": {
        "id": "Km-5HI2MELKu"
      },
      "execution_count": 10,
      "outputs": []
    },
    {
      "cell_type": "code",
      "source": [
        "regressor.add(tf.keras.layers.Dense(units = 1))"
      ],
      "metadata": {
        "id": "GXDA9Ze3EMz5"
      },
      "execution_count": 11,
      "outputs": []
    },
    {
      "cell_type": "code",
      "source": [
        "regressor.compile(optimizer = 'adam', loss = 'mse',metrics=['accuracy'])"
      ],
      "metadata": {
        "id": "AYOOvT4EEQ28"
      },
      "execution_count": 12,
      "outputs": []
    },
    {
      "cell_type": "code",
      "source": [
        "regressor.fit(X_train, y_train, epochs = 100)"
      ],
      "metadata": {
        "colab": {
          "base_uri": "https://localhost:8080/"
        },
        "id": "MMGEMIMGETYb",
        "outputId": "f80927b6-f8c5-4d93-9a1a-50678f4c8255"
      },
      "execution_count": 13,
      "outputs": [
        {
          "output_type": "stream",
          "name": "stdout",
          "text": [
            "Epoch 1/100\n",
            "38/38 [==============================] - 13s 119ms/step - loss: 0.0531 - accuracy: 8.3472e-04\n",
            "Epoch 2/100\n",
            "38/38 [==============================] - 5s 129ms/step - loss: 0.0070 - accuracy: 0.0017\n",
            "Epoch 3/100\n",
            "38/38 [==============================] - 4s 109ms/step - loss: 0.0060 - accuracy: 0.0017\n",
            "Epoch 4/100\n",
            "38/38 [==============================] - 5s 132ms/step - loss: 0.0055 - accuracy: 0.0017\n",
            "Epoch 5/100\n",
            "38/38 [==============================] - 4s 116ms/step - loss: 0.0055 - accuracy: 0.0017\n",
            "Epoch 6/100\n",
            "38/38 [==============================] - 4s 108ms/step - loss: 0.0057 - accuracy: 0.0017\n",
            "Epoch 7/100\n",
            "38/38 [==============================] - 5s 139ms/step - loss: 0.0047 - accuracy: 0.0017\n",
            "Epoch 8/100\n",
            "38/38 [==============================] - 4s 109ms/step - loss: 0.0044 - accuracy: 0.0017\n",
            "Epoch 9/100\n",
            "38/38 [==============================] - 4s 109ms/step - loss: 0.0048 - accuracy: 0.0017\n",
            "Epoch 10/100\n",
            "38/38 [==============================] - 5s 141ms/step - loss: 0.0046 - accuracy: 0.0017\n",
            "Epoch 11/100\n",
            "38/38 [==============================] - 4s 109ms/step - loss: 0.0043 - accuracy: 0.0017\n",
            "Epoch 12/100\n",
            "38/38 [==============================] - 4s 109ms/step - loss: 0.0039 - accuracy: 0.0017\n",
            "Epoch 13/100\n",
            "38/38 [==============================] - 5s 140ms/step - loss: 0.0043 - accuracy: 0.0017\n",
            "Epoch 14/100\n",
            "38/38 [==============================] - 5s 127ms/step - loss: 0.0046 - accuracy: 0.0017\n",
            "Epoch 15/100\n",
            "38/38 [==============================] - 5s 135ms/step - loss: 0.0040 - accuracy: 0.0017\n",
            "Epoch 16/100\n",
            "38/38 [==============================] - 5s 120ms/step - loss: 0.0036 - accuracy: 0.0017\n",
            "Epoch 17/100\n",
            "38/38 [==============================] - 4s 107ms/step - loss: 0.0039 - accuracy: 0.0017\n",
            "Epoch 18/100\n",
            "38/38 [==============================] - 5s 136ms/step - loss: 0.0037 - accuracy: 0.0017\n",
            "Epoch 19/100\n",
            "38/38 [==============================] - 4s 112ms/step - loss: 0.0038 - accuracy: 0.0017\n",
            "Epoch 20/100\n",
            "38/38 [==============================] - 4s 107ms/step - loss: 0.0038 - accuracy: 0.0017\n",
            "Epoch 21/100\n",
            "38/38 [==============================] - 5s 137ms/step - loss: 0.0035 - accuracy: 0.0017\n",
            "Epoch 22/100\n",
            "38/38 [==============================] - 4s 108ms/step - loss: 0.0033 - accuracy: 0.0017\n",
            "Epoch 23/100\n",
            "38/38 [==============================] - 4s 106ms/step - loss: 0.0033 - accuracy: 0.0017\n",
            "Epoch 24/100\n",
            "38/38 [==============================] - 5s 137ms/step - loss: 0.0035 - accuracy: 0.0017\n",
            "Epoch 25/100\n",
            "38/38 [==============================] - 4s 106ms/step - loss: 0.0031 - accuracy: 0.0017\n",
            "Epoch 26/100\n",
            "38/38 [==============================] - 4s 106ms/step - loss: 0.0032 - accuracy: 0.0017\n",
            "Epoch 27/100\n",
            "38/38 [==============================] - 6s 158ms/step - loss: 0.0045 - accuracy: 0.0017\n",
            "Epoch 28/100\n",
            "38/38 [==============================] - 5s 117ms/step - loss: 0.0033 - accuracy: 0.0017\n",
            "Epoch 29/100\n",
            "38/38 [==============================] - 4s 107ms/step - loss: 0.0029 - accuracy: 0.0017\n",
            "Epoch 30/100\n",
            "38/38 [==============================] - 5s 138ms/step - loss: 0.0030 - accuracy: 0.0017\n",
            "Epoch 31/100\n",
            "38/38 [==============================] - 4s 106ms/step - loss: 0.0032 - accuracy: 0.0017\n",
            "Epoch 32/100\n",
            "38/38 [==============================] - 4s 106ms/step - loss: 0.0032 - accuracy: 0.0017\n",
            "Epoch 33/100\n",
            "38/38 [==============================] - 5s 136ms/step - loss: 0.0029 - accuracy: 0.0017\n",
            "Epoch 34/100\n",
            "38/38 [==============================] - 4s 106ms/step - loss: 0.0029 - accuracy: 0.0017\n",
            "Epoch 35/100\n",
            "38/38 [==============================] - 4s 106ms/step - loss: 0.0029 - accuracy: 0.0017\n",
            "Epoch 36/100\n",
            "38/38 [==============================] - 5s 136ms/step - loss: 0.0026 - accuracy: 0.0017\n",
            "Epoch 37/100\n",
            "38/38 [==============================] - 4s 107ms/step - loss: 0.0024 - accuracy: 0.0017\n",
            "Epoch 38/100\n",
            "38/38 [==============================] - 4s 107ms/step - loss: 0.0024 - accuracy: 0.0017\n",
            "Epoch 39/100\n",
            "38/38 [==============================] - 5s 135ms/step - loss: 0.0029 - accuracy: 0.0017\n",
            "Epoch 40/100\n",
            "38/38 [==============================] - 4s 106ms/step - loss: 0.0028 - accuracy: 0.0017\n",
            "Epoch 41/100\n",
            "38/38 [==============================] - 4s 115ms/step - loss: 0.0024 - accuracy: 0.0017\n",
            "Epoch 42/100\n",
            "38/38 [==============================] - 5s 129ms/step - loss: 0.0027 - accuracy: 0.0017\n",
            "Epoch 43/100\n",
            "38/38 [==============================] - 4s 107ms/step - loss: 0.0027 - accuracy: 0.0017\n",
            "Epoch 44/100\n",
            "38/38 [==============================] - 5s 123ms/step - loss: 0.0025 - accuracy: 0.0017\n",
            "Epoch 45/100\n",
            "38/38 [==============================] - 5s 121ms/step - loss: 0.0023 - accuracy: 0.0017\n",
            "Epoch 46/100\n",
            "38/38 [==============================] - 4s 107ms/step - loss: 0.0026 - accuracy: 0.0017\n",
            "Epoch 47/100\n",
            "38/38 [==============================] - 5s 128ms/step - loss: 0.0025 - accuracy: 0.0017\n",
            "Epoch 48/100\n",
            "38/38 [==============================] - 4s 115ms/step - loss: 0.0025 - accuracy: 0.0017\n",
            "Epoch 49/100\n",
            "38/38 [==============================] - 4s 107ms/step - loss: 0.0025 - accuracy: 0.0017\n",
            "Epoch 50/100\n",
            "38/38 [==============================] - 5s 137ms/step - loss: 0.0024 - accuracy: 0.0017\n",
            "Epoch 51/100\n",
            "38/38 [==============================] - 4s 108ms/step - loss: 0.0026 - accuracy: 0.0017\n",
            "Epoch 52/100\n",
            "38/38 [==============================] - 4s 106ms/step - loss: 0.0023 - accuracy: 0.0017\n",
            "Epoch 53/100\n",
            "38/38 [==============================] - 6s 148ms/step - loss: 0.0022 - accuracy: 0.0017\n",
            "Epoch 54/100\n",
            "38/38 [==============================] - 5s 126ms/step - loss: 0.0024 - accuracy: 0.0017\n",
            "Epoch 55/100\n",
            "38/38 [==============================] - 4s 107ms/step - loss: 0.0024 - accuracy: 0.0017\n",
            "Epoch 56/100\n",
            "38/38 [==============================] - 5s 137ms/step - loss: 0.0023 - accuracy: 0.0017\n",
            "Epoch 57/100\n",
            "38/38 [==============================] - 4s 108ms/step - loss: 0.0022 - accuracy: 0.0017\n",
            "Epoch 58/100\n",
            "38/38 [==============================] - 4s 106ms/step - loss: 0.0022 - accuracy: 0.0017\n",
            "Epoch 59/100\n",
            "38/38 [==============================] - 5s 137ms/step - loss: 0.0020 - accuracy: 0.0017\n",
            "Epoch 60/100\n",
            "38/38 [==============================] - 4s 106ms/step - loss: 0.0021 - accuracy: 0.0017\n",
            "Epoch 61/100\n",
            "38/38 [==============================] - 4s 107ms/step - loss: 0.0020 - accuracy: 0.0017\n",
            "Epoch 62/100\n",
            "38/38 [==============================] - 5s 134ms/step - loss: 0.0021 - accuracy: 0.0017\n",
            "Epoch 63/100\n",
            "38/38 [==============================] - 4s 107ms/step - loss: 0.0021 - accuracy: 0.0017\n",
            "Epoch 64/100\n",
            "38/38 [==============================] - 4s 114ms/step - loss: 0.0020 - accuracy: 0.0017\n",
            "Epoch 65/100\n",
            "38/38 [==============================] - 5s 127ms/step - loss: 0.0020 - accuracy: 0.0017\n",
            "Epoch 66/100\n",
            "38/38 [==============================] - 4s 107ms/step - loss: 0.0018 - accuracy: 0.0017\n",
            "Epoch 67/100\n",
            "38/38 [==============================] - 5s 121ms/step - loss: 0.0020 - accuracy: 0.0017\n",
            "Epoch 68/100\n",
            "38/38 [==============================] - 5s 120ms/step - loss: 0.0019 - accuracy: 0.0017\n",
            "Epoch 69/100\n",
            "38/38 [==============================] - 4s 106ms/step - loss: 0.0020 - accuracy: 0.0017\n",
            "Epoch 70/100\n",
            "38/38 [==============================] - 5s 128ms/step - loss: 0.0019 - accuracy: 0.0017\n",
            "Epoch 71/100\n",
            "38/38 [==============================] - 4s 114ms/step - loss: 0.0019 - accuracy: 0.0017\n",
            "Epoch 72/100\n",
            "38/38 [==============================] - 4s 107ms/step - loss: 0.0021 - accuracy: 0.0017\n",
            "Epoch 73/100\n",
            "38/38 [==============================] - 5s 136ms/step - loss: 0.0020 - accuracy: 0.0017\n",
            "Epoch 74/100\n",
            "38/38 [==============================] - 5s 118ms/step - loss: 0.0020 - accuracy: 0.0017\n",
            "Epoch 75/100\n",
            "38/38 [==============================] - 5s 124ms/step - loss: 0.0019 - accuracy: 0.0017\n",
            "Epoch 76/100\n",
            "38/38 [==============================] - 5s 136ms/step - loss: 0.0019 - accuracy: 0.0017\n",
            "Epoch 77/100\n",
            "38/38 [==============================] - 4s 107ms/step - loss: 0.0017 - accuracy: 0.0017\n",
            "Epoch 78/100\n",
            "38/38 [==============================] - 4s 106ms/step - loss: 0.0019 - accuracy: 0.0017\n",
            "Epoch 79/100\n",
            "38/38 [==============================] - 5s 139ms/step - loss: 0.0016 - accuracy: 0.0017\n",
            "Epoch 80/100\n",
            "38/38 [==============================] - 4s 108ms/step - loss: 0.0017 - accuracy: 0.0017\n",
            "Epoch 81/100\n",
            "38/38 [==============================] - 4s 110ms/step - loss: 0.0018 - accuracy: 0.0017\n",
            "Epoch 82/100\n",
            "38/38 [==============================] - 5s 133ms/step - loss: 0.0017 - accuracy: 0.0017\n",
            "Epoch 83/100\n",
            "38/38 [==============================] - 4s 106ms/step - loss: 0.0018 - accuracy: 0.0017\n",
            "Epoch 84/100\n",
            "38/38 [==============================] - 5s 121ms/step - loss: 0.0017 - accuracy: 0.0017\n",
            "Epoch 85/100\n",
            "38/38 [==============================] - 5s 124ms/step - loss: 0.0015 - accuracy: 0.0017\n",
            "Epoch 86/100\n",
            "38/38 [==============================] - 4s 107ms/step - loss: 0.0015 - accuracy: 0.0017\n",
            "Epoch 87/100\n",
            "38/38 [==============================] - 5s 128ms/step - loss: 0.0016 - accuracy: 0.0017\n",
            "Epoch 88/100\n",
            "38/38 [==============================] - 4s 114ms/step - loss: 0.0014 - accuracy: 0.0017\n",
            "Epoch 89/100\n",
            "38/38 [==============================] - 4s 107ms/step - loss: 0.0015 - accuracy: 0.0017\n",
            "Epoch 90/100\n",
            "38/38 [==============================] - 5s 136ms/step - loss: 0.0020 - accuracy: 0.0017\n",
            "Epoch 91/100\n",
            "38/38 [==============================] - 4s 108ms/step - loss: 0.0017 - accuracy: 0.0017\n",
            "Epoch 92/100\n",
            "38/38 [==============================] - 4s 108ms/step - loss: 0.0013 - accuracy: 0.0017\n",
            "Epoch 93/100\n",
            "38/38 [==============================] - 7s 173ms/step - loss: 0.0015 - accuracy: 0.0017\n",
            "Epoch 94/100\n",
            "38/38 [==============================] - 4s 108ms/step - loss: 0.0014 - accuracy: 0.0017\n",
            "Epoch 95/100\n",
            "38/38 [==============================] - 4s 106ms/step - loss: 0.0015 - accuracy: 0.0017\n",
            "Epoch 96/100\n",
            "38/38 [==============================] - 5s 139ms/step - loss: 0.0015 - accuracy: 0.0017\n",
            "Epoch 97/100\n",
            "38/38 [==============================] - 4s 108ms/step - loss: 0.0013 - accuracy: 0.0017\n",
            "Epoch 98/100\n",
            "38/38 [==============================] - 4s 106ms/step - loss: 0.0016 - accuracy: 0.0017\n",
            "Epoch 99/100\n",
            "38/38 [==============================] - 5s 138ms/step - loss: 0.0014 - accuracy: 0.0017\n",
            "Epoch 100/100\n",
            "38/38 [==============================] - 4s 107ms/step - loss: 0.0016 - accuracy: 0.0017\n"
          ]
        },
        {
          "output_type": "execute_result",
          "data": {
            "text/plain": [
              "<keras.src.callbacks.History at 0x7ec2a35105b0>"
            ]
          },
          "metadata": {},
          "execution_count": 13
        }
      ]
    },
    {
      "cell_type": "code",
      "source": [
        "dataset_test = pd.read_csv('Google_Stock_Price_Test.csv')\n",
        "real_stock_price = dataset_test.iloc[:, 1:2].values"
      ],
      "metadata": {
        "id": "0C0K2_V0GXRg"
      },
      "execution_count": 14,
      "outputs": []
    },
    {
      "cell_type": "code",
      "source": [
        "dataset_total = pd.concat((dataset_train['Open'], dataset_test['Open']), axis = 0)\n",
        "inputs = dataset_total[len(dataset_total) - len(dataset_test) - 60:].values\n",
        "inputs = inputs.reshape(-1,1)\n",
        "inputs = sc.transform(inputs)\n",
        "X_test = []"
      ],
      "metadata": {
        "id": "lysQRDktGd0Y"
      },
      "execution_count": 15,
      "outputs": []
    },
    {
      "cell_type": "code",
      "source": [
        "for i in range(60, 80):\n",
        "    X_test.append(inputs[i-60:i, 0])\n",
        "X_test = np.array(X_test)\n",
        "X_test = np.reshape(X_test, (X_test.shape[0], X_test.shape[1], 1))\n",
        "predicted_stock_price = regressor.predict(X_test)\n",
        "predicted_stock_price = sc.inverse_transform(predicted_stock_price)\n"
      ],
      "metadata": {
        "colab": {
          "base_uri": "https://localhost:8080/"
        },
        "id": "DcQeDWuaGrkI",
        "outputId": "4b4aefb1-7a11-4c4b-fcf1-bcecee3dd732"
      },
      "execution_count": 16,
      "outputs": [
        {
          "output_type": "stream",
          "name": "stdout",
          "text": [
            "1/1 [==============================] - 2s 2s/step\n"
          ]
        }
      ]
    },
    {
      "cell_type": "code",
      "source": [
        "plt.plot(real_stock_price, color = 'red', label = 'Real Google Stock Price')\n",
        "plt.plot(predicted_stock_price, color = 'green', label = 'Predicted Google Stock Price')\n",
        "plt.title('Google Stock Price Prediction')\n",
        "plt.xlabel('Time')\n",
        "plt.ylabel('Google Stock Price')\n",
        "plt.legend()\n",
        "plt.show()"
      ],
      "metadata": {
        "colab": {
          "base_uri": "https://localhost:8080/",
          "height": 472
        },
        "id": "ivLkD81nGuNw",
        "outputId": "2667a6f7-5a68-41fe-f247-dcae2061c665"
      },
      "execution_count": 18,
      "outputs": [
        {
          "output_type": "display_data",
          "data": {
            "text/plain": [
              "<Figure size 640x480 with 1 Axes>"
            ],
            "image/png": "[encoded data removed]"
          },
          "metadata": {}
        }
      ]
    }
  ]
}